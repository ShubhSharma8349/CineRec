{
 "cells": [
  {
   "cell_type": "code",
   "execution_count": 1,
   "metadata": {},
   "outputs": [],
   "source": [
    "import numpy as np\n",
    "import pandas as pd\n",
    "from sklearn.feature_extraction.text import CountVectorizer\n",
    "from sklearn.metrics.pairwise import cosine_similarity\n",
    "import json\n",
    "import bs4 as bs\n",
    "import urllib.request\n",
    "import pickle\n",
    "import requests"
   ]
  },
  {
   "cell_type": "code",
   "execution_count": 2,
   "metadata": {},
   "outputs": [],
   "source": [
    "filename = 'nlp_model.pkl'\n",
    "clf = pickle.load(open(filename, 'rb'))\n",
    "vectorizer = pickle.load(open('tranform.pkl','rb'))"
   ]
  },
  {
   "cell_type": "code",
   "execution_count": 3,
   "metadata": {},
   "outputs": [],
   "source": [
    "def create_sim():\n",
    "    data = pd.read_csv('main_data.csv')\n",
    "    # creating a count matrix\n",
    "    cv = CountVectorizer()\n",
    "    count_matrix = cv.fit_transform(data['comb'])\n",
    "    # creating a similarity score matrix\n",
    "    sim = cosine_similarity(count_matrix)\n",
    "    return data,sim"
   ]
  },
  {
   "cell_type": "code",
   "execution_count": 4,
   "metadata": {},
   "outputs": [],
   "source": [
    "def rcmd(m):\n",
    "    m = m.lower()\n",
    "    try:\n",
    "        data.head()\n",
    "        sim.shape\n",
    "    except:\n",
    "        data, sim = create_sim()\n",
    "    if m not in data['movie_title'].unique():\n",
    "        return('Sorry! The movie your searched is not in our database. Please check the spelling or try with some other movies')\n",
    "    else:\n",
    "        i = data.loc[data['movie_title']==m].index[0]\n",
    "        lst = list(enumerate(sim[i]))\n",
    "        lst = sorted(lst, key = lambda x:x[1] ,reverse=True)\n",
    "        lst = lst[1:11]\n",
    "        l = []\n",
    "        for i in range(len(lst)):\n",
    "            a = lst[i][0]\n",
    "            l.append(data['movie_title'][a])\n",
    "        return l"
   ]
  },
  {
   "cell_type": "code",
   "execution_count": 5,
   "metadata": {},
   "outputs": [],
   "source": [
    "r = rcmd('avatar')"
   ]
  },
  {
   "cell_type": "code",
   "execution_count": 6,
   "metadata": {},
   "outputs": [
    {
     "data": {
      "text/plain": [
       "['aliens',\n",
       " 'mystery men',\n",
       " 'deep rising',\n",
       " 'dragonball: evolution',\n",
       " 'terminator 2: judgment day',\n",
       " 'the terminator',\n",
       " 'blade: trinity',\n",
       " 'star wars: the clone wars\\xa0           ',\n",
       " 'the amazing spider-man 2',\n",
       " '2012']"
      ]
     },
     "execution_count": 6,
     "metadata": {},
     "output_type": "execute_result"
    }
   ],
   "source": [
    "r"
   ]
  },
  {
   "cell_type": "code",
   "execution_count": null,
   "metadata": {},
   "outputs": [],
   "source": []
  }
 ],
 "metadata": {
  "kernelspec": {
   "display_name": "Python 3",
   "language": "python",
   "name": "python3"
  },
  "language_info": {
   "codemirror_mode": {
    "name": "ipython",
    "version": 3
   },
   "file_extension": ".py",
   "mimetype": "text/x-python",
   "name": "python",
   "nbconvert_exporter": "python",
   "pygments_lexer": "ipython3",
   "version": "3.8.3"
  }
 },
 "nbformat": 4,
 "nbformat_minor": 4
}
